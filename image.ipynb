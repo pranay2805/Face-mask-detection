{
 "cells": [
  {
   "cell_type": "code",
   "execution_count": 1,
   "metadata": {},
   "outputs": [],
   "source": [
    "from tensorflow.keras.applications.mobilenet_v2 import preprocess_input\n",
    "from tensorflow.keras.preprocessing.image import img_to_array\n",
    "from tensorflow.keras.models import load_model\n",
    "import numpy as np\n",
    "import cv2\n",
    "import os"
   ]
  },
  {
   "cell_type": "code",
   "execution_count": 2,
   "metadata": {},
   "outputs": [],
   "source": [
    "prototxtPath=os.path.sep.join([r'C:\\Users\\PRANAY\\Desktop\\dataset','deploy.prototxt'])\n",
    "weightsPath=os.path.sep.join([r'C:\\Users\\PRANAY\\Desktop\\dataset','res10_300x300_ssd_iter_140000.caffemodel'])"
   ]
  },
  {
   "cell_type": "code",
   "execution_count": 3,
   "metadata": {},
   "outputs": [
    {
     "data": {
      "text/plain": [
       "'C:\\\\Users\\\\PRANAY\\\\Desktop\\\\dataset\\\\deploy.prototxt'"
      ]
     },
     "execution_count": 3,
     "metadata": {},
     "output_type": "execute_result"
    }
   ],
   "source": [
    "prototxtPath"
   ]
  },
  {
   "cell_type": "code",
   "execution_count": 4,
   "metadata": {},
   "outputs": [
    {
     "data": {
      "text/plain": [
       "'C:\\\\Users\\\\PRANAY\\\\Desktop\\\\dataset\\\\res10_300x300_ssd_iter_140000.caffemodel'"
      ]
     },
     "execution_count": 4,
     "metadata": {},
     "output_type": "execute_result"
    }
   ],
   "source": [
    "weightsPath"
   ]
  },
  {
   "cell_type": "code",
   "execution_count": 5,
   "metadata": {},
   "outputs": [],
   "source": [
    "net=cv2.dnn.readNet(prototxtPath,weightsPath)"
   ]
  },
  {
   "cell_type": "code",
   "execution_count": null,
   "metadata": {},
   "outputs": [],
   "source": []
  },
  {
   "cell_type": "code",
   "execution_count": 6,
   "metadata": {},
   "outputs": [],
   "source": [
    "model=load_model(r'C:\\Users\\PRANAY\\.keras\\models\\mobilenet_v2.model')"
   ]
  },
  {
   "cell_type": "code",
   "execution_count": 18,
   "metadata": {},
   "outputs": [],
   "source": [
    "image=cv2.imread(r'Downloads\\2.jpg')"
   ]
  },
  {
   "cell_type": "code",
   "execution_count": 19,
   "metadata": {},
   "outputs": [
    {
     "data": {
      "text/plain": [
       "array([[[117,  88,  97],\n",
       "        [139, 110, 119],\n",
       "        [135, 106, 115],\n",
       "        ...,\n",
       "        [181, 142, 150],\n",
       "        [181, 142, 150],\n",
       "        [181, 142, 150]],\n",
       "\n",
       "       [[117,  88,  97],\n",
       "        [139, 110, 119],\n",
       "        [135, 106, 115],\n",
       "        ...,\n",
       "        [181, 142, 150],\n",
       "        [181, 142, 150],\n",
       "        [181, 142, 150]],\n",
       "\n",
       "       [[119,  88,  97],\n",
       "        [142, 111, 120],\n",
       "        [137, 106, 115],\n",
       "        ...,\n",
       "        [182, 143, 151],\n",
       "        [182, 143, 151],\n",
       "        [182, 143, 151]],\n",
       "\n",
       "       ...,\n",
       "\n",
       "       [[  8, 102,   0],\n",
       "        [ 11, 106,   0],\n",
       "        [ 19, 110,   1],\n",
       "        ...,\n",
       "        [189, 174, 205],\n",
       "        [173, 162, 194],\n",
       "        [201, 192, 225]],\n",
       "\n",
       "       [[  8, 102,   0],\n",
       "        [ 12, 107,   0],\n",
       "        [ 20, 111,   2],\n",
       "        ...,\n",
       "        [140, 129, 162],\n",
       "        [127, 119, 156],\n",
       "        [169, 164, 203]],\n",
       "\n",
       "       [[  9, 103,   0],\n",
       "        [ 12, 107,   0],\n",
       "        [ 20, 111,   2],\n",
       "        ...,\n",
       "        [172, 162, 198],\n",
       "        [151, 146, 185],\n",
       "        [190, 186, 227]]], dtype=uint8)"
      ]
     },
     "execution_count": 19,
     "metadata": {},
     "output_type": "execute_result"
    }
   ],
   "source": [
    "image"
   ]
  },
  {
   "cell_type": "code",
   "execution_count": 20,
   "metadata": {},
   "outputs": [],
   "source": [
    "(h,w)=image.shape[:2]"
   ]
  },
  {
   "cell_type": "code",
   "execution_count": 21,
   "metadata": {},
   "outputs": [],
   "source": [
    "blob=cv2.dnn.blobFromImage(image,1.0,(300,300),(104.0,177.0,123.0))"
   ]
  },
  {
   "cell_type": "code",
   "execution_count": 22,
   "metadata": {},
   "outputs": [
    {
     "data": {
      "text/plain": [
       "array([[[[  13.,   35.,   31., ...,   77.,   77.,   77.],\n",
       "         [  13.,   35.,   31., ...,   77.,   77.,   77.],\n",
       "         [  13.,   35.,   31., ...,   77.,   77.,   77.],\n",
       "         ...,\n",
       "         [ -96.,  -92.,  -84., ...,   39.,   25.,   67.],\n",
       "         [ -96.,  -92.,  -84., ...,   57.,   39.,   79.],\n",
       "         [ -95.,  -92.,  -84., ...,   68.,   47.,   86.]],\n",
       "\n",
       "        [[ -89.,  -67.,  -71., ...,  -35.,  -35.,  -35.],\n",
       "         [ -89.,  -67.,  -71., ...,  -35.,  -35.,  -35.],\n",
       "         [ -89.,  -67.,  -71., ...,  -35.,  -35.,  -35.],\n",
       "         ...,\n",
       "         [ -75.,  -70.,  -66., ...,  -45.,  -55.,  -11.],\n",
       "         [ -75.,  -70.,  -66., ...,  -26.,  -40.,    1.],\n",
       "         [ -74.,  -70.,  -66., ...,  -15.,  -31.,    9.]],\n",
       "\n",
       "        [[ -26.,   -4.,   -8., ...,   27.,   27.,   27.],\n",
       "         [ -26.,   -4.,   -8., ...,   27.,   27.,   27.],\n",
       "         [ -26.,   -4.,   -8., ...,   27.,   27.,   27.],\n",
       "         ...,\n",
       "         [-123., -123., -121., ...,   43.,   36.,   82.],\n",
       "         [-123., -123., -121., ...,   63.,   52.,   96.],\n",
       "         [-123., -123., -121., ...,   75.,   62.,  104.]]]], dtype=float32)"
      ]
     },
     "execution_count": 22,
     "metadata": {},
     "output_type": "execute_result"
    }
   ],
   "source": [
    "blob"
   ]
  },
  {
   "cell_type": "code",
   "execution_count": 23,
   "metadata": {},
   "outputs": [],
   "source": [
    "net.setInput(blob)\n",
    "detections=net.forward()"
   ]
  },
  {
   "cell_type": "code",
   "execution_count": 24,
   "metadata": {},
   "outputs": [
    {
     "data": {
      "text/plain": [
       "array([[[[0.        , 1.        , 0.93999887, ..., 0.11296932,\n",
       "          0.5602714 , 0.57658684],\n",
       "         [0.        , 1.        , 0.10509964, ..., 0.61960024,\n",
       "          0.13555464, 0.7919404 ],\n",
       "         [0.        , 1.        , 0.09798207, ..., 0.46279895,\n",
       "          0.2872632 , 0.9840516 ],\n",
       "         ...,\n",
       "         [0.        , 0.        , 0.        , ..., 0.        ,\n",
       "          0.        , 0.        ],\n",
       "         [0.        , 0.        , 0.        , ..., 0.        ,\n",
       "          0.        , 0.        ],\n",
       "         [0.        , 0.        , 0.        , ..., 0.        ,\n",
       "          0.        , 0.        ]]]], dtype=float32)"
      ]
     },
     "execution_count": 24,
     "metadata": {},
     "output_type": "execute_result"
    }
   ],
   "source": [
    "detections"
   ]
  },
  {
   "cell_type": "code",
   "execution_count": null,
   "metadata": {},
   "outputs": [],
   "source": []
  },
  {
   "cell_type": "code",
   "execution_count": null,
   "metadata": {},
   "outputs": [],
   "source": []
  },
  {
   "cell_type": "code",
   "execution_count": 27,
   "metadata": {},
   "outputs": [],
   "source": [
    "for i in range(0,detections.shape[2]):\n",
    "    confidence=detections[0,0,i,2]\n",
    "    if confidence>0.5:\n",
    "        box=detections[0,0,i,3:7]*np.array([w,h,w,h])\n",
    "        (startX,startY,endX,endY)=box.astype('int')\n",
    "        (startX,startY)=(max(0,startX),max(0,startY))\n",
    "        (endX,endY)=(min(w-1,endX),min(h-1,endY))\n",
    "        \n",
    "        face=image[startY:endY,startX:endX]\n",
    "        face=cv2.cvtColor(face,cv2.COLOR_BGR2RGB)\n",
    "        face=cv2.resize(face,(224,224))\n",
    "        face=img_to_array(face)\n",
    "        face=preprocess_input(face)\n",
    "        face=np.expand_dims(face,axis=0)\n",
    "        \n",
    "        (mask,withoutMask)=model.predict(face)[0]\n",
    "        \n",
    "        label='Mask' if mask>withoutMask else 'No Mask'\n",
    "        color=(0,255,0) if label=='Mask' else (0,0,255)\n",
    "        \n",
    "        label=\"{}:{:.2f}%\".format(label,max(mask,withoutMask*100))\n",
    "        \n",
    "        cv2.putText(image,label,(startX,startY-10),cv2.FONT_HERSHEY_SIMPLEX,0.45,color,2)\n",
    "        cv2.rectangle(image,(startX,startY),(endX,endY),color,2)\n",
    "        \n",
    "        cv2.imshow(\"output\",image)\n",
    "        cv2.waitKey(0)\n",
    "        cv2.destroyAllWindows\n",
    "        "
   ]
  },
  {
   "cell_type": "code",
   "execution_count": null,
   "metadata": {},
   "outputs": [],
   "source": []
  }
 ],
 "metadata": {
  "kernelspec": {
   "display_name": "Python 3",
   "language": "python",
   "name": "python3"
  },
  "language_info": {
   "codemirror_mode": {
    "name": "ipython",
    "version": 3
   },
   "file_extension": ".py",
   "mimetype": "text/x-python",
   "name": "python",
   "nbconvert_exporter": "python",
   "pygments_lexer": "ipython3",
   "version": "3.7.6"
  }
 },
 "nbformat": 4,
 "nbformat_minor": 4
}
